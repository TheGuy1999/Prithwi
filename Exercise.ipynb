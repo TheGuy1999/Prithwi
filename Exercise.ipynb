{
 "cells": [
  {
   "cell_type": "code",
   "execution_count": null,
   "metadata": {},
   "outputs": [],
   "source": [
    "#print the odd number from 24 to 500\n",
    "for i in range (24,500):\n",
    "    if i%2!=0:\n",
    "        print(i);"
   ]
  },
  {
   "cell_type": "code",
   "execution_count": null,
   "metadata": {},
   "outputs": [],
   "source": [
    "for i in range(25,500,2):\n",
    "    print(i)"
   ]
  },
  {
   "cell_type": "code",
   "execution_count": null,
   "metadata": {},
   "outputs": [],
   "source": [
    "n=input()\n",
    "m=input()\n",
    "if int(n)!=n or int(m)!=m:\n",
    "    print(n+m)\n",
    "    \n",
    "else:\n",
    "    print(int(n)+int(m))\n"
   ]
  },
  {
   "cell_type": "code",
   "execution_count": null,
   "metadata": {},
   "outputs": [],
   "source": [
    "n=input()\n",
    "m=input()\n",
    "a=int(n)\n",
    "b=int(m)\n",
    "if n>=1 and m>=1:\n",
    "    print(a+b)\n",
    "    \n",
    "else:print(n+m)"
   ]
  },
  {
   "cell_type": "code",
   "execution_count": null,
   "metadata": {},
   "outputs": [],
   "source": [
    "input1=input()\n",
    "input2=input()\n",
    "try:\n",
    "    if((float(input1)/int(input1)>1) and (float(input2)/int(input2)>1)):\n",
    "            print(float(input1)+float(input2))\n",
    "    else:\n",
    "            print(int(input1)+int(input2))\n",
    "except:\n",
    "    print(input1+input2)"
   ]
  },
  {
   "cell_type": "code",
   "execution_count": null,
   "metadata": {},
   "outputs": [],
   "source": [
    "arr=[122,66,32,48,92,-5,0,70,81,121]\n",
    "num=arr[0]\n",
    "print(arr1)\n",
    "for i in range (1,10):\n",
    "    if arr[i]>=num:\n",
    "        num=arr[i]\n",
    "\n",
    "print(num)"
   ]
  },
  {
   "cell_type": "code",
   "execution_count": null,
   "metadata": {},
   "outputs": [],
   "source": [
    "print(max(arr))"
   ]
  },
  {
   "cell_type": "code",
   "execution_count": null,
   "metadata": {},
   "outputs": [],
   "source": [
    "arr=[78,'80',56,12,78,['12',45,89]]\n",
    "for item in arr:\n",
    "    if type(item)==list:\n",
    "        for item_inner in item:\n",
    "            if item_inner%2==0:\n",
    "                print(item_inner)\n",
    "    elif type(item)==str:\n",
    "        a=int(item)\n",
    "        if a%2==0:\n",
    "            print(a)\n",
    "    else :\n",
    "        if item%2==0:\n",
    "            print(item)"
   ]
  },
  {
   "cell_type": "code",
   "execution_count": null,
   "metadata": {},
   "outputs": [],
   "source": [
    "#list of even numbers\n",
    "[i for i in range (0,20,2)]\n",
    "    "
   ]
  },
  {
   "cell_type": "code",
   "execution_count": null,
   "metadata": {},
   "outputs": [],
   "source": [
    "# arr=['89','56','23','78','45','56','12'] convert all the elements to int\n",
    "arr=['89','56','23','78','45','56','12']\n",
    "list(map(int,arr))\n"
   ]
  },
  {
   "cell_type": "code",
   "execution_count": null,
   "metadata": {},
   "outputs": [],
   "source": [
    "a = (\"John\", )\n",
    "b = (\"Jenny\", \"Christy\", \"Monica\")\n",
    "\n",
    "x = zip(a, b)\n",
    "\n",
    "#use the tuple() function to display a readable version of the result:\n",
    "\n",
    "print(tuple(x))\n"
   ]
  },
  {
   "cell_type": "code",
   "execution_count": null,
   "metadata": {},
   "outputs": [],
   "source": [
    "x = lambda a,b: a + 10\n",
    "print(x(5,2))\n"
   ]
  },
  {
   "cell_type": "code",
   "execution_count": null,
   "metadata": {},
   "outputs": [],
   "source": [
    "def myfunc(n):\n",
    "  return len(n)\n",
    "\n",
    "x = list(map(myfunc, ('apple', 'banana', 'cherry')))\n",
    "print(x)\n",
    "#print(list(x))"
   ]
  },
  {
   "cell_type": "code",
   "execution_count": null,
   "metadata": {},
   "outputs": [],
   "source": [
    "# remove the repeated elements from a list arr=[1,2,3,5,6,1,1,1,2,3,6,4]\n",
    "arr = [1,2,3,5,6,1,1,1,2,3,6,4]\n",
    "arr = list(dict.fromkeys(arr))\n",
    "print(arr)"
   ]
  },
  {
   "cell_type": "code",
   "execution_count": 11,
   "metadata": {},
   "outputs": [
    {
     "data": {
      "text/plain": [
       "[12, 45, 78, 23, 56, 89]"
      ]
     },
     "execution_count": 11,
     "metadata": {},
     "output_type": "execute_result"
    }
   ],
   "source": [
    "list(set(arr))"
   ]
  },
  {
   "cell_type": "code",
   "execution_count": 1,
   "metadata": {},
   "outputs": [
    {
     "ename": "SyntaxError",
     "evalue": "invalid syntax (<ipython-input-1-94641a9ac37f>, line 4)",
     "output_type": "error",
     "traceback": [
      "\u001b[1;36m  File \u001b[1;32m\"<ipython-input-1-94641a9ac37f>\"\u001b[1;36m, line \u001b[1;32m4\u001b[0m\n\u001b[1;33m    for i in range (::-1):\u001b[0m\n\u001b[1;37m                    ^\u001b[0m\n\u001b[1;31mSyntaxError\u001b[0m\u001b[1;31m:\u001b[0m invalid syntax\n"
     ]
    }
   ],
   "source": [
    "str1=\"abcdef\"\n",
    "j=0\n",
    "s=\"acdfw\"\n",
    "for i in range (::-1):\n",
    "    s[j]=str1[i]\n",
    "    j+=1\n",
    "if s==str1:\n",
    "    print(\"Palindrome\")\n",
    "else:\n",
    "    print(\"Not Palindrome\")\n"
   ]
  },
  {
   "cell_type": "code",
   "execution_count": 5,
   "metadata": {},
   "outputs": [
    {
     "name": "stdout",
     "output_type": "stream",
     "text": [
      "Palindrome\n"
     ]
    }
   ],
   "source": [
    "s = \"nayan\"\n",
    "if s==s[::-1]:\n",
    "    print(\"Palindrome\")\n",
    "else:\n",
    "    print(\"Not Palindrome\")"
   ]
  },
  {
   "cell_type": "code",
   "execution_count": 2,
   "metadata": {},
   "outputs": [
    {
     "name": "stdout",
     "output_type": "stream",
     "text": [
      "Not Palindrome\n"
     ]
    }
   ],
   "source": [
    "b = [\"nayan11\",\"grg\"]\n",
    "if b==b[::-1]:\n",
    "    print(\"Palindrome\")\n",
    "else:\n",
    "    print(\"Not Palindrome\")"
   ]
  },
  {
   "cell_type": "code",
   "execution_count": 9,
   "metadata": {},
   "outputs": [
    {
     "name": "stdout",
     "output_type": "stream",
     "text": [
      "['Not Palindrome', 'Palindrome', 'Palindrome', 'Not Palindrome']\n"
     ]
    }
   ],
   "source": [
    "s=[\"nayan11\",\"grg\",\"malayalam\",\"rain\"]\n",
    "c=[\"\"]\n",
    "print([\"Palindrome\" if i==i[::-1] else \"Not Palindrome\" for i in s])\n",
    "\n"
   ]
  },
  {
   "cell_type": "code",
   "execution_count": 3,
   "metadata": {},
   "outputs": [
    {
     "data": {
      "text/plain": [
       "[56, 12, 78]"
      ]
     },
     "execution_count": 3,
     "metadata": {},
     "output_type": "execute_result"
    }
   ],
   "source": [
    "arr=[45,56,89,23,45,12,78]\n",
    "[i for i in arr if i%2==0]"
   ]
  },
  {
   "cell_type": "code",
   "execution_count": 10,
   "metadata": {},
   "outputs": [
    {
     "name": "stdout",
     "output_type": "stream",
     "text": [
      "[0, 'Even', 0, 0, 0, 'Even', 'Even']\n"
     ]
    }
   ],
   "source": [
    "print([i if i%2==0 else 0 for i in arr])"
   ]
  },
  {
   "cell_type": "code",
   "execution_count": null,
   "metadata": {},
   "outputs": [],
   "source": []
  }
 ],
 "metadata": {
  "kernelspec": {
   "display_name": "Python 3",
   "language": "python",
   "name": "python3"
  },
  "language_info": {
   "codemirror_mode": {
    "name": "ipython",
    "version": 3
   },
   "file_extension": ".py",
   "mimetype": "text/x-python",
   "name": "python",
   "nbconvert_exporter": "python",
   "pygments_lexer": "ipython3",
   "version": "3.7.3rc1"
  }
 },
 "nbformat": 4,
 "nbformat_minor": 4
}
